{
  "cells": [
    {
      "cell_type": "markdown",
      "metadata": {
        "id": "FRRFHP1uJrEK"
      },
      "source": [
        "# A08 Q2: RNN and BPTT"
      ]
    },
    {
      "cell_type": "code",
      "execution_count": 6,
      "metadata": {
        "id": "dGGPfrPMJrEN"
      },
      "outputs": [],
      "source": [
        "import numpy as np\n",
        "import matplotlib.pylab as plt\n",
        "import torch\n",
        "import torch.nn as nn\n",
        "import copy\n",
        "from tqdm import tqdm\n",
        "from termcolor import colored  # for printing coloured text\n",
        "device = 'cuda' if torch.cuda.is_available() else 'cpu'"
      ]
    },
    {
      "cell_type": "code",
      "execution_count": 6,
      "metadata": {
        "id": "l3tPd5BSJrEO"
      },
      "outputs": [],
      "source": []
    },
    {
      "cell_type": "markdown",
      "metadata": {
        "id": "NOolg1lFJrEP"
      },
      "source": [
        "# Dataset"
      ]
    },
    {
      "cell_type": "code",
      "execution_count": 7,
      "metadata": {
        "id": "mR06vKUCJrEP"
      },
      "outputs": [],
      "source": [
        "import re\n",
        "class Origin(torch.utils.data.Dataset):\n",
        "    '''\n",
        "     ds = Origin(seq_length=10, start=0, stop=-1)\n",
        "     \n",
        "     Creates a PyTorch Dataset object, holding a simplified version\n",
        "     of the text from Charles Darwin's \"On the Origin of Species\".\n",
        "     \n",
        "     The class contains utility functions to convert between the\n",
        "     string-based form of a sequence, and its vector encoding, in which\n",
        "     each character is represented by a one-hot 28-vector corresponding\n",
        "     to the 28 characters in the string\n",
        "       ' .abcdefghijklmnopqrstuvwxyz'  (the first character is a space)\n",
        "     \n",
        "     The target sequences are the same as the inputs, but advanced by\n",
        "     one character.\n",
        "     \n",
        "     Inputs:\n",
        "      seq_length  the number of characters in each sequence\n",
        "      start       the index of the character to start taking sequences from\n",
        "      stop        the index of the character to stop taking sequences from\n",
        "      \n",
        "     Usage:\n",
        "      ds = Origin(seq_length=5, start=7, stop=100)\n",
        "      x,t = ds.__getitem__(0)\n",
        "      print(ds.read_seq(x))   # Produces 'origi'\n",
        "      print(ds.read_seq(t))   # Produces 'rigin'\n",
        "    '''\n",
        "    def __init__(self, seq_length=10, start=0, stop=-1):\n",
        "        self.seq_length = seq_length\n",
        "\n",
        "        orig_text = open('origin_of_species.txt').read().lower()\n",
        "        chars = sorted(list(set(orig_text)))\n",
        "        chars.insert(0, \"\\0\") #Add newline character\n",
        "        vocab_size = len(chars)\n",
        "\n",
        "        char_indices = dict((c, i) for i, c in enumerate(chars))\n",
        "        indices_char = dict((i, c) for i, c in enumerate(chars))\n",
        "        idx = [char_indices[c] for c in orig_text]\n",
        "\n",
        "        # Let's simplify it by keeping only letters, spaces, and periods.\n",
        "        filt_idx = []\n",
        "        for i in idx:\n",
        "            if i<=24 and i!=10:\n",
        "                filt_idx.append(2)\n",
        "            elif i>24 or i==10:\n",
        "                filt_idx.append(i)\n",
        "        blah = ''.join([indices_char[f] for f in filt_idx])\n",
        "        self.text = re.sub(' +', ' ', blah)  # collapse multiple spaces using regular expressions\n",
        "        self.text = self.text[start:stop]\n",
        "        #chars = sorted(list(set(self.text)))\n",
        "        chars = sorted(list(set(' .abcdefghijklmnopqrstuvwxyz')))\n",
        "        self.vocab_size = len(chars)\n",
        "        print('Character set: '+''.join(chars)+' (first char is a space)')\n",
        "\n",
        "        self.char_indices = dict((c, i) for i, c in enumerate(chars))\n",
        "        self.indices_char = dict((i, c) for i, c in enumerate(chars))\n",
        "        self.idx = [self.char_indices[c] for c in self.text]\n",
        "\n",
        "        print('There are '+str(self.vocab_size)+' characters in our character set')\n",
        "\n",
        "    def __len__(self):\n",
        "        return len(self.text) - 1 - self.seq_length\n",
        "    \n",
        "    def __getitem__(self, k):\n",
        "        x = self.idx[k:k+self.seq_length]\n",
        "        t = self.idx[k+1:k+1+self.seq_length]\n",
        "        return self.seq_i2v(x), torch.tensor(t, dtype=torch.long)\n",
        "      \n",
        "    def seq_i2v(self, seq):\n",
        "        x = torch.zeros((len(seq), self.vocab_size))\n",
        "        for k,i in enumerate(seq):\n",
        "            x[k,i] = 1.\n",
        "        return x\n",
        "    \n",
        "    def read_seq(self, x):\n",
        "        idx = [torch.argmax(v).item() for v in x]        \n",
        "        return ''.join(self.indices_char[i] for i in idx)\n",
        "    \n",
        "    def encode_seq(self, c):\n",
        "        idx = [self.char_indices[cc] for cc in c]\n",
        "        return self.seq_i2v(idx)"
      ]
    },
    {
      "cell_type": "code",
      "execution_count": 8,
      "metadata": {
        "colab": {
          "base_uri": "https://localhost:8080/"
        },
        "id": "cCIicftBJrEQ",
        "outputId": "444b959a-0009-4ba1-eda9-6c6a8ec780a0"
      },
      "outputs": [
        {
          "output_type": "stream",
          "name": "stdout",
          "text": [
            "Character set:  .abcdefghijklmnopqrstuvwxyz (first char is a space)\n",
            "There are 28 characters in our character set\n"
          ]
        }
      ],
      "source": [
        "# Create the dataset\n",
        "oos = Origin(start=11000, stop=21000, seq_length=10)"
      ]
    },
    {
      "cell_type": "code",
      "execution_count": 9,
      "metadata": {
        "colab": {
          "base_uri": "https://localhost:8080/"
        },
        "id": "eCnuWyzmJrEQ",
        "outputId": "d1eae1dc-53ed-4dff-d118-87d589d8c860"
      },
      "outputs": [
        {
          "output_type": "execute_result",
          "data": {
            "text/plain": [
              "9989"
            ]
          },
          "metadata": {},
          "execution_count": 9
        }
      ],
      "source": [
        "# How many sequences?\n",
        "len(oos)"
      ]
    },
    {
      "cell_type": "code",
      "execution_count": 10,
      "metadata": {
        "scrolled": true,
        "colab": {
          "base_uri": "https://localhost:8080/",
          "height": 36
        },
        "id": "dJXjDCuoJrEQ",
        "outputId": "110e055f-4817-4cbd-f8bc-bae5d2235408"
      },
      "outputs": [
        {
          "output_type": "execute_result",
          "data": {
            "text/plain": [
              "'en yield new varieties our oldest domesticated animals are still capable of rapi'"
            ],
            "application/vnd.google.colaboratory.intrinsic+json": {
              "type": "string"
            }
          },
          "metadata": {},
          "execution_count": 10
        }
      ],
      "source": [
        "# You can access the original (simplified) text.\n",
        "oos.text[820:900]"
      ]
    },
    {
      "cell_type": "code",
      "execution_count": 11,
      "metadata": {
        "id": "OtcQBj9BJrER"
      },
      "outputs": [],
      "source": [
        "x, t = oos.__getitem__(0)"
      ]
    },
    {
      "cell_type": "code",
      "execution_count": 12,
      "metadata": {
        "colab": {
          "base_uri": "https://localhost:8080/"
        },
        "id": "3Jfg5pfnJrES",
        "outputId": "e0ff396e-0671-40b3-d91e-4970184672c8"
      },
      "outputs": [
        {
          "output_type": "stream",
          "name": "stdout",
          "text": [
            "Here is how you can view one of the samples:\n",
            "Sample input: \"treatment \"\n"
          ]
        }
      ],
      "source": [
        "print('Here is how you can view one of the samples:')\n",
        "print(f'Sample input: \"{oos.read_seq(x)}\"')"
      ]
    },
    {
      "cell_type": "code",
      "execution_count": 13,
      "metadata": {
        "id": "ZgwcSxA1JrES"
      },
      "outputs": [],
      "source": [
        "# Create a PyTorch DataLoader\n",
        "dl = torch.utils.data.DataLoader(oos, batch_size=128, shuffle=True)"
      ]
    },
    {
      "cell_type": "markdown",
      "metadata": {
        "id": "FtEivGD3JrES"
      },
      "source": [
        "# `GRU` Class"
      ]
    },
    {
      "cell_type": "code",
      "execution_count": 14,
      "metadata": {
        "id": "647q2BqVJrES"
      },
      "outputs": [],
      "source": [
        "class GRU(nn.Module):\n",
        "    '''\n",
        "     net = GRU(dims)\n",
        "     Input:\n",
        "       dims is [I, H], where the input/output layers have I neurons, and the\n",
        "            hidden layer has H neurons.\n",
        "    '''\n",
        "    def __init__(self, dims):\n",
        "        super().__init__()\n",
        "        self.losses = []\n",
        "        \n",
        "        #===== YOUR CODE HERE =====\n",
        "         \n",
        "        self.input_dim, self.hidden_dim = dims\n",
        "        # Input gate weights\n",
        "        self.wi = nn.Linear(self.hidden_dim, self.hidden_dim, bias=True)\n",
        "        self.ui = nn.Linear(self.input_dim, self.hidden_dim, bias=True)\n",
        "        \n",
        "        # Reset gate weights\n",
        "        self.ur = nn.Linear(self.input_dim, self.hidden_dim, bias=True)\n",
        "        self.wr = nn.Linear(self.hidden_dim, self.hidden_dim, bias=True)\n",
        "        \n",
        "        # Hidden state weights\n",
        "        self.uh = nn.Linear(self.input_dim, self.hidden_dim, bias=True)\n",
        "        self.wh = nn.Linear(self.hidden_dim, self.hidden_dim, bias=True)\n",
        "        \n",
        "        # Output layer weights\n",
        "        self.v = nn.Linear(self.hidden_dim, self.input_dim, bias=True)\n",
        "        \n",
        "        \n",
        "    def step(self, x, h):\n",
        "        '''\n",
        "         hnext = net.step(x, h)\n",
        "         \n",
        "         Takes a time step, with input x and current hidden state h.\n",
        "         Returns the new h.\n",
        "         \n",
        "         Inputs:\n",
        "          x      a DxI tensor holding a batch of inputs, where\n",
        "                    D is the batch size, and\n",
        "                    I is the dimension of the inputs\n",
        "          h      a DxH tensor holding a batch of hidden states, where\n",
        "                    H is the number of hidden nodes\n",
        "                \n",
        "         Output:\n",
        "          hnext  a DxH tensor holding the hidden states for the next\n",
        "                    timestep\n",
        "        '''\n",
        "        #===== YOUR CODE HERE =====\n",
        "        z = torch.sigmoid(self.ui(x) + self.wi(h))\n",
        "        r = torch.sigmoid(self.ur(x) + self.wr(h))\n",
        "        hc = torch.tanh(self.uh(x) + self.wh(r * h))\n",
        "        hnext = z * hc + (1 - z) * h\n",
        "        return hnext  \n",
        "    \n",
        "    \n",
        "    def output(self, h):\n",
        "        '''\n",
        "         y = net.output(h)\n",
        "         \n",
        "         Given the hidden state, returns the *log* of the output.\n",
        "         ie. for categorical cross-entropy, it should return LogSoftmax.\n",
        "         \n",
        "         Input:\n",
        "          h  a DxH tensor holding a batch of hidden states, where\n",
        "                D is the batch size, and\n",
        "                H is the dimension of the hidden state (number of hidden nodes)\n",
        "                \n",
        "         Output:\n",
        "          y  a DxI tensor holding a batch of outputs, where\n",
        "                I is the dimension of the output\n",
        "        '''\n",
        "        #===== YOUR CODE HERE =====\n",
        "        y = nn.functional.log_softmax(self.v(h), dim=-1)\n",
        "        return y\n",
        "    \n",
        "    \n",
        "    def forward(self, x):\n",
        "        '''\n",
        "         y = net.forward(x)\n",
        "         \n",
        "         Takes a batch of squences, and returns the batch of output\n",
        "         sequences.\n",
        "         \n",
        "         Inputs:\n",
        "          x   a DxTxI tensor, where\n",
        "                 D is the batch size (number of sequences in the batch)\n",
        "                 T is the sequence length, and\n",
        "                 I is the dimension of the input to the network\n",
        "                 \n",
        "         Output:\n",
        "          y   a DxTxI tensor, as above\n",
        "        '''\n",
        "        x = x.to(device)  # in case you're using a GPU\n",
        "        # We have to reorder the batch from (D, T, I) to (T, D, I) so that\n",
        "        # we can run the batch through the network, one timestep at a time.\n",
        "        seq_of_batches = torch.einsum('ijk->jik', x)\n",
        "\n",
        "        output_seq = []\n",
        "        T, samples, input_dim = seq_of_batches.shape\n",
        "        h = torch.zeros((samples, self.hidden_dim)).to(device)\n",
        "        for xt in seq_of_batches:\n",
        "            h = self.step(xt, h)\n",
        "            output_seq.append(self.output(h))\n",
        "        y = torch.stack(output_seq, dim=0).to(device)  # (T, batch_size, output_dim)\n",
        "        return torch.einsum('jik->ijk', y)  # (batch_size, T, output_dim)\n",
        "\n",
        "    \n",
        "    def bptt(self, dl, epochs=10, loss_fcn=nn.NLLLoss(), lr=0.001):\n",
        "        '''\n",
        "         net.bptt(dl, epochs=10, loss_fcn=nn.NLLLoss(), lr=0.001)\n",
        "         \n",
        "         Trains the recurrent network using Backprop Through Time.\n",
        "         \n",
        "         Inputs:\n",
        "          dl        PyTorch DataLoader object\n",
        "                    Each batch shoud be shaped DxTxI where\n",
        "                      D is the number of sequences (samples) in the batch,\n",
        "                      T is the length of each sequence, and\n",
        "                      I is dim of each input to the network\n",
        "          epochs    number of epochs to train for\n",
        "          loss_fcn  PyTorch loss function\n",
        "          lr        learning rate\n",
        "        '''\n",
        "        optim = torch.optim.Adam(self.parameters(), lr=lr)  # optimizer\n",
        "        for epoch in tqdm(range(epochs)):\n",
        "            total_loss = 0.\n",
        "            for x,t in (dl):\n",
        "                y = self(x)   # process the batch of sequences\n",
        "                \n",
        "                # Go through output sequences, and compute loss\n",
        "                loss = torch.tensor(0., device=device, requires_grad=True)\n",
        "                for ys,ts in zip(y,t.to(device)):\n",
        "                    loss = loss + loss_fcn(ys, ts)\n",
        "                    \n",
        "                # And this stuff is familiar by now\n",
        "                optim.zero_grad()\n",
        "                loss.backward()\n",
        "                optim.step()\n",
        "                total_loss += loss.detach().cpu().item()\n",
        "                \n",
        "            self.losses.append(total_loss/len(dl))\n",
        "        plt.plot(self.losses)\n",
        "        \n",
        "        \n",
        "    def predict(self, x, n=10):\n",
        "        '''\n",
        "         y = net.predict(x, n=10)\n",
        "         \n",
        "         Run the network on sequence x, and then continue to predict\n",
        "         the next n outputs.\n",
        "         \n",
        "         Inputs:\n",
        "          x  a TxI tensor for a single input sequence\n",
        "          n  how many output timesteps to predict\n",
        "          \n",
        "         Output:\n",
        "          y  an (n)xI tensor, holding the sequence of n outputs\n",
        "                predicted after the input sequence\n",
        "        '''\n",
        "        assert len(x.shape)==2\n",
        "        with torch.no_grad():\n",
        "            h = torch.zeros((1, self.hidden_dim)).to(device)\n",
        "            for xx in x:  # step through the given sequence\n",
        "                h = self.step(xx, h)\n",
        "            y = self.output(h)\n",
        "            pred = [y]   # for storing the output sequence\n",
        "            \n",
        "            # Now we take n more steps, and add the network's output\n",
        "            for t in range(n-1):\n",
        "                # Make a one-hot input out of the last output\n",
        "                c = torch.argmax(y)\n",
        "                x = torch.zeros_like(y)\n",
        "                x[0,c] = 1.\n",
        "                # Take a timestep\n",
        "                h = self.step(x, h)\n",
        "                y = self.output(h) # output from prev step becomes input to next step\n",
        "                pred.append(y)\n",
        "                \n",
        "        return torch.stack(pred, dim=0)"
      ]
    },
    {
      "cell_type": "markdown",
      "metadata": {
        "id": "25VcahO2JrET"
      },
      "source": [
        "# Create and train the GRU"
      ]
    },
    {
      "cell_type": "code",
      "execution_count": 15,
      "metadata": {
        "id": "GTRpFRE_JrET"
      },
      "outputs": [],
      "source": [
        "net = GRU([oos.vocab_size, 400])"
      ]
    },
    {
      "cell_type": "code",
      "execution_count": 16,
      "metadata": {
        "scrolled": true,
        "colab": {
          "base_uri": "https://localhost:8080/",
          "height": 287
        },
        "id": "PIBP2uw1JrET",
        "outputId": "f0a3ce67-dcd4-452e-b658-41c790617239"
      },
      "outputs": [
        {
          "output_type": "stream",
          "name": "stderr",
          "text": [
            "100%|██████████| 20/20 [03:10<00:00,  9.50s/it]\n"
          ]
        },
        {
          "output_type": "display_data",
          "data": {
            "text/plain": [
              "<Figure size 432x288 with 1 Axes>"
            ],
            "image/png": "[encoded data removed]"
          },
          "metadata": {
            "needs_background": "light"
          }
        }
      ],
      "source": [
        "net.bptt(dl, epochs=20, loss_fcn=nn.NLLLoss(reduction='mean'), lr=0.001)"
      ]
    },
    {
      "cell_type": "code",
      "execution_count": 18,
      "metadata": {
        "id": "TETmKAMaJrEU"
      },
      "outputs": [],
      "source": [
        "# Use these lines to save and load your trained network.\n",
        "torch.save(net.cpu(), 'mygru.pt')\n",
        "net = torch.load('mygru.pt').to(device)"
      ]
    },
    {
      "cell_type": "markdown",
      "metadata": {
        "id": "xHEO2kDXJrEU"
      },
      "source": [
        "# Evaluate the network"
      ]
    },
    {
      "cell_type": "code",
      "execution_count": 19,
      "metadata": {
        "colab": {
          "base_uri": "https://localhost:8080/"
        },
        "id": "dp9aCX71JrEU",
        "outputId": "3565c481-0e0d-4d92-a651-ef3438d5dc99"
      },
      "outputs": [
        {
          "output_type": "stream",
          "name": "stdout",
          "text": [
            "Input:         being cea\n",
            "Prediction:    being ceasing to va\n",
            "Actual:        being ceasing to be\n"
          ]
        }
      ],
      "source": [
        "# Choose a random seed sequence\n",
        "k = np.random.randint(0, high=len(oos))\n",
        "rs = oos.read_seq  # shorthand for the function\n",
        "s = oos.__getitem__(k)[0].to(device)  # s holds the seq\n",
        "\n",
        "# Feed the seq in to the net, and ask for the next 10 characters\n",
        "pred_seq = net.predict(s, n=10).cpu()\n",
        "\n",
        "print(f'Input:        {rs(s)}')\n",
        "print(f'Prediction:   {rs(s)+colored(rs(pred_seq), \"red\")}')\n",
        "snext = oos.__getitem__(k+oos.seq_length)[0]  # the following sequence\n",
        "print(f'Actual:       {rs(s)+rs(snext)}')"
      ]
    },
    {
      "cell_type": "code",
      "execution_count": 20,
      "metadata": {
        "colab": {
          "base_uri": "https://localhost:8080/"
        },
        "id": "cCo2hO3zJrEU",
        "outputId": "c07d49e4-eb2d-4eca-bb27-77c877db4502"
      },
      "outputs": [
        {
          "output_type": "stream",
          "name": "stdout",
          "text": [
            "ch species have pollen utterly be handed by and constitution\n"
          ]
        }
      ],
      "source": [
        "# Let's predict a longer sequence\n",
        "word = 'ch species'  # choosing our own see seq\n",
        "v = oos.encode_seq(word)  # encode it\n",
        "y = net.predict(v, n=50)  # predict next 50 characters\n",
        "print(f'{oos.read_seq(v)}'+colored(oos.read_seq(y), 'red'))"
      ]
    },
    {
      "cell_type": "markdown",
      "metadata": {
        "id": "mAoDhTxZJrEU"
      },
      "source": [
        "## Matching string length"
      ]
    },
    {
      "cell_type": "code",
      "execution_count": null,
      "metadata": {
        "id": "VNcWgsImJrEV"
      },
      "outputs": [],
      "source": []
    },
    {
      "cell_type": "code",
      "execution_count": 22,
      "metadata": {
        "id": "2CCB6OktJrEV"
      },
      "outputs": [],
      "source": [
        "# Run experiment on a bunch of random seed sequences.\n",
        "# - choose random seed seq\n",
        "# - predict next 100 characters\n",
        "# - find out how many characters match the text\n",
        "matching_lengths = range(101)\n",
        "def match_length(prime_str, pred_str, seq_length):\n",
        "    # Find the longest matching substring\n",
        "    for i in range(seq_length, 0, -1):\n",
        "        if oos.text.find(pred_str[:i], oos.text.find(prime_str)+len(prime_str)) != -1:\n",
        "            return i\n",
        "    return 0\n",
        "priming_strings = []\n",
        "for i in range(200):\n",
        "    start_idx = np.random.randint(0, len(oos.text) - 110)\n",
        "    priming_string = oos.text[start_idx:start_idx+10]\n",
        "    priming_strings.append(priming_string)\n",
        "matching_lengths = range(0,101)\n",
        "matching_counts = {length: 0 for length in matching_lengths}\n",
        "with torch.no_grad():\n",
        "    for priming_string in priming_strings:\n",
        "        # Encode the priming string\n",
        "        x = oos.encode_seq(priming_string)\n",
        "        # Make the model prediction\n",
        "        y = net.predict(x, n=100)\n",
        "        # Decode the prediction\n",
        "        pred_str = oos.read_seq(y.detach().cpu())\n",
        "        matching_length = match_length(priming_string, pred_str, 100)\n",
        "        for i in range(matching_length+1):\n",
        "          matching_counts[i] += 1"
      ]
    },
    {
      "cell_type": "code",
      "execution_count": 23,
      "metadata": {
        "colab": {
          "base_uri": "https://localhost:8080/",
          "height": 295
        },
        "id": "d2BVBO9CJrEV",
        "outputId": "5dced172-794d-4839-d5c2-d37f9612c43c"
      },
      "outputs": [
        {
          "output_type": "display_data",
          "data": {
            "text/plain": [
              "<Figure size 432x288 with 1 Axes>"
            ],
            "image/png": "[encoded data removed]"
          },
          "metadata": {
            "needs_background": "light"
          }
        }
      ],
      "source": [
        "plt.plot(list(matching_counts.keys()), list(matching_counts.values()))\n",
        "plt.xlabel('Matching String Length')\n",
        "plt.ylabel('Trials')\n",
        "plt.title('Matching String Length vs Trials')\n",
        "plt.show()"
      ]
    },
    {
      "cell_type": "code",
      "source": [
        "matching_counts"
      ],
      "metadata": {
        "id": "jlkmZcWCDb1N",
        "colab": {
          "base_uri": "https://localhost:8080/"
        },
        "outputId": "3ba1da50-fec4-471c-f4f1-e0fab6204687"
      },
      "execution_count": 25,
      "outputs": [
        {
          "output_type": "execute_result",
          "data": {
            "text/plain": [
              "{0: 200,\n",
              " 1: 200,\n",
              " 2: 200,\n",
              " 3: 199,\n",
              " 4: 195,\n",
              " 5: 189,\n",
              " 6: 179,\n",
              " 7: 172,\n",
              " 8: 165,\n",
              " 9: 158,\n",
              " 10: 152,\n",
              " 11: 141,\n",
              " 12: 129,\n",
              " 13: 118,\n",
              " 14: 105,\n",
              " 15: 97,\n",
              " 16: 85,\n",
              " 17: 79,\n",
              " 18: 74,\n",
              " 19: 68,\n",
              " 20: 61,\n",
              " 21: 58,\n",
              " 22: 54,\n",
              " 23: 52,\n",
              " 24: 47,\n",
              " 25: 44,\n",
              " 26: 40,\n",
              " 27: 37,\n",
              " 28: 36,\n",
              " 29: 33,\n",
              " 30: 26,\n",
              " 31: 25,\n",
              " 32: 23,\n",
              " 33: 20,\n",
              " 34: 20,\n",
              " 35: 17,\n",
              " 36: 16,\n",
              " 37: 16,\n",
              " 38: 15,\n",
              " 39: 15,\n",
              " 40: 14,\n",
              " 41: 14,\n",
              " 42: 12,\n",
              " 43: 10,\n",
              " 44: 9,\n",
              " 45: 7,\n",
              " 46: 7,\n",
              " 47: 7,\n",
              " 48: 6,\n",
              " 49: 6,\n",
              " 50: 6,\n",
              " 51: 6,\n",
              " 52: 6,\n",
              " 53: 5,\n",
              " 54: 3,\n",
              " 55: 3,\n",
              " 56: 3,\n",
              " 57: 3,\n",
              " 58: 3,\n",
              " 59: 3,\n",
              " 60: 3,\n",
              " 61: 2,\n",
              " 62: 2,\n",
              " 63: 2,\n",
              " 64: 2,\n",
              " 65: 1,\n",
              " 66: 1,\n",
              " 67: 1,\n",
              " 68: 1,\n",
              " 69: 1,\n",
              " 70: 1,\n",
              " 71: 1,\n",
              " 72: 1,\n",
              " 73: 1,\n",
              " 74: 1,\n",
              " 75: 0,\n",
              " 76: 0,\n",
              " 77: 0,\n",
              " 78: 0,\n",
              " 79: 0,\n",
              " 80: 0,\n",
              " 81: 0,\n",
              " 82: 0,\n",
              " 83: 0,\n",
              " 84: 0,\n",
              " 85: 0,\n",
              " 86: 0,\n",
              " 87: 0,\n",
              " 88: 0,\n",
              " 89: 0,\n",
              " 90: 0,\n",
              " 91: 0,\n",
              " 92: 0,\n",
              " 93: 0,\n",
              " 94: 0,\n",
              " 95: 0,\n",
              " 96: 0,\n",
              " 97: 0,\n",
              " 98: 0,\n",
              " 99: 0,\n",
              " 100: 0}"
            ]
          },
          "metadata": {},
          "execution_count": 25
        }
      ]
    },
    {
      "cell_type": "code",
      "source": [],
      "metadata": {
        "id": "zaGH618xedCc"
      },
      "execution_count": null,
      "outputs": []
    }
  ],
  "metadata": {
    "kernelspec": {
      "display_name": "Python 3",
      "language": "python",
      "name": "python3"
    },
    "language_info": {
      "codemirror_mode": {
        "name": "ipython",
        "version": 3
      },
      "file_extension": ".py",
      "mimetype": "text/x-python",
      "name": "python",
      "nbconvert_exporter": "python",
      "pygments_lexer": "ipython3",
      "version": "3.8.3"
    },
    "colab": {
      "provenance": []
    }
  },
  "nbformat": 4,
  "nbformat_minor": 0
}
